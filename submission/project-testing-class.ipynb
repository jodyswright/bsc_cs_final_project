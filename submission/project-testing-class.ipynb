{
 "cells": [
  {
   "cell_type": "code",
   "execution_count": 1,
   "id": "1f48e622",
   "metadata": {},
   "outputs": [],
   "source": [
    "# Env using Python 3.10.14\n",
    "# pip install notebook==5.7.5\n",
    "\n",
    "# the keras libraries\n",
    "# pip install tensorflow Version: 2.17.0\n",
    "import tensorflow as tf\n",
    "\n",
    "from tensorflow.python.keras import models, layers\n",
    "\n",
    "# Version: 3.4.1\n",
    "from tensorflow import keras\n",
    "\n",
    "# pip install keras-tuner\n",
    "import keras_tuner as kt"
   ]
  },
  {
   "cell_type": "code",
   "execution_count": 7,
   "id": "69953364",
   "metadata": {
    "scrolled": true
   },
   "outputs": [],
   "source": [
    "# other libraries\n",
    "import pandas as pd\n",
    "import os\n",
    "import numpy as np\n",
    "\n",
    "import matplotlib.pyplot as plt\n",
    "\n",
    "# use for splitting the test and train data\n",
    "from sklearn.model_selection import train_test_split\n",
    "\n",
    "# for the creation of the cartesian product grid\n",
    "from itertools import product\n",
    "\n",
    "# for the timing of each test\n",
    "import time\n",
    "import datetime"
   ]
  },
  {
   "cell_type": "code",
   "execution_count": 44,
   "id": "ef878e5b",
   "metadata": {},
   "outputs": [],
   "source": [
    "import math\n",
    "import json\n",
    "from sklearn.metrics import confusion_matrix, ConfusionMatrixDisplay, precision_score, recall_score"
   ]
  },
  {
   "cell_type": "code",
   "execution_count": 4,
   "id": "b6e7b569",
   "metadata": {},
   "outputs": [],
   "source": [
    "# the data tools module\n",
    "import data_tools as dt\n",
    "dh = dt.Data_Handling(output_size=5)"
   ]
  },
  {
   "cell_type": "code",
   "execution_count": 8,
   "id": "2f3d35ea",
   "metadata": {},
   "outputs": [
    {
     "name": "stdout",
     "output_type": "stream",
     "text": [
      "Loaded files of size:\n",
      "Images: (14190, 281, 362, 1)\n",
      "Labels: (14190,)\n",
      "(11352, 281, 362, 1) (2838, 281, 362, 1)\n"
     ]
    }
   ],
   "source": [
    "# set the paths to load the processed data\n",
    "CURRENT_DIR = os.curdir\n",
    "label_path = f'{CURRENT_DIR}/data/mitdb_labels_reduced.npy'\n",
    "data_path = f'{CURRENT_DIR}/data/mitdb_data_reduced.npy'\n",
    "\n",
    "# get the data\n",
    "dh.load_data(label_path=label_path, data_path=data_path)\n",
    "\n",
    "# split into train and test sets\n",
    "dh.split_data(split=0.2)\n",
    "\n",
    "print(dh.X_train.shape, dh.X_test.shape)"
   ]
  },
  {
   "cell_type": "code",
   "execution_count": 10,
   "id": "a04a2dea",
   "metadata": {},
   "outputs": [
    {
     "name": "stdout",
     "output_type": "stream",
     "text": [
      "(11352, 281, 362, 1) (2838, 281, 362, 1)\n"
     ]
    }
   ],
   "source": [
    "dh.split_data(split=0.2)\n",
    "print(dh.X_train.shape, dh.X_test.shape)"
   ]
  },
  {
   "cell_type": "markdown",
   "id": "1e85a6e5",
   "metadata": {},
   "source": [
    "# Basic conv net to achieve statistical significance"
   ]
  },
  {
   "cell_type": "code",
   "execution_count": 18,
   "id": "f7e41243",
   "metadata": {
    "scrolled": true
   },
   "outputs": [],
   "source": [
    "def build_basic_model(shape, output_size, callbacks):\n",
    "    '''\n",
    "    build a model of single layer Conv2d using minimum size\n",
    "    \n",
    "    parameters:\n",
    "        shape (tuple) the shape of the test data\n",
    "        output_size (int) the number of classes to be modelled\n",
    "        callbacks (list of keras callbacks) callbacks such as early stopping\n",
    "        \n",
    "    returns:\n",
    "        model (keras model) a compiled keras model\n",
    "    '''\n",
    "    inputs = keras.Input(shape=shape)   \n",
    "    x = keras.layers.Conv2D(filters=2, kernel_size=3, activation=\"relu\")(inputs) \n",
    "    x = keras.layers.Flatten()(x)\n",
    "    \n",
    "    outputs = keras.layers.Dense(output_size, activation=\"softmax\")(x)\n",
    "    model = keras.Model(inputs=inputs, outputs=outputs)\n",
    "\n",
    "    # compile the model\n",
    "    model.compile(optimizer=\"rmsprop\",\n",
    "                  loss=\"sparse_categorical_crossentropy\",\n",
    "                  metrics=[\"accuracy\"])\n",
    "\n",
    "    return model"
   ]
  },
  {
   "cell_type": "code",
   "execution_count": 19,
   "id": "5d720f90",
   "metadata": {
    "scrolled": false
   },
   "outputs": [],
   "source": [
    "# build the basic model and save the weights for use thorughout the testing \n",
    "model = build_basic_model(dh.shape, dh.output_size, callbacks=[])\n",
    "# model.save_weights('../weights/basic.weights.h5')"
   ]
  },
  {
   "cell_type": "code",
   "execution_count": 20,
   "id": "f2ba485d",
   "metadata": {},
   "outputs": [],
   "source": [
    "# set the params\n",
    "max_epochs = 50\n",
    "vaidation_split = 0.2\n",
    "batch_size = 256\n",
    "\n",
    "# create the callbacks\n",
    "metric = 'val_loss'\n",
    "checkpoint_path = 'checkpoint_path.keras'\n",
    "\n",
    "callbacks = [\n",
    "    keras.callbacks.EarlyStopping(\n",
    "        monitor=metric, \n",
    "        patience=3\n",
    "    )\n",
    "]"
   ]
  },
  {
   "cell_type": "code",
   "execution_count": 29,
   "id": "99b6ff47",
   "metadata": {},
   "outputs": [],
   "source": [
    "def get_best_epoch(history, metric):\n",
    "    '''\n",
    "    find the best epoch for the given metric. eg if 'accuracy' find the maximum value\n",
    "    in the history list\n",
    "    \n",
    "    parameters:\n",
    "         metric (string) the metric used for training\n",
    "         history (dict) the history returned from the model fit\n",
    "         \n",
    "     returns:\n",
    "         best_idx (int) the index of the best result in the list\n",
    "    '''\n",
    "\n",
    "    if metric in ['accuracy', 'val_accuracy']:\n",
    "        best_idx = np.argmax(history[metric])\n",
    "    elif metric in ['loss', 'val_loss']:\n",
    "        best_idx = np.argmin(history[metric])\n",
    "    else:\n",
    "        raise ValueError(f'Metric {metric} not supported')\n",
    "\n",
    "    return best_idx"
   ]
  },
  {
   "cell_type": "code",
   "execution_count": 22,
   "id": "5048c0c6",
   "metadata": {},
   "outputs": [
    {
     "name": "stdout",
     "output_type": "stream",
     "text": [
      "Epoch 1/50\n",
      "\u001b[1m36/36\u001b[0m \u001b[32m━━━━━━━━━━━━━━━━━━━━\u001b[0m\u001b[37m\u001b[0m \u001b[1m14s\u001b[0m 389ms/step - accuracy: 0.3030 - loss: 29389.5391 - val_accuracy: 0.1656 - val_loss: 9778.1377\n",
      "Epoch 2/50\n",
      "\u001b[1m36/36\u001b[0m \u001b[32m━━━━━━━━━━━━━━━━━━━━\u001b[0m\u001b[37m\u001b[0m \u001b[1m13s\u001b[0m 368ms/step - accuracy: 0.3278 - loss: 9686.4893 - val_accuracy: 0.1656 - val_loss: 3636.2600\n",
      "Epoch 3/50\n",
      "\u001b[1m36/36\u001b[0m \u001b[32m━━━━━━━━━━━━━━━━━━━━\u001b[0m\u001b[37m\u001b[0m \u001b[1m13s\u001b[0m 369ms/step - accuracy: 0.4798 - loss: 2762.2000 - val_accuracy: 0.8683 - val_loss: 121.8922\n",
      "Epoch 4/50\n",
      "\u001b[1m36/36\u001b[0m \u001b[32m━━━━━━━━━━━━━━━━━━━━\u001b[0m\u001b[37m\u001b[0m \u001b[1m14s\u001b[0m 383ms/step - accuracy: 0.7959 - loss: 356.4316 - val_accuracy: 0.9080 - val_loss: 47.2519\n",
      "Epoch 5/50\n",
      "\u001b[1m36/36\u001b[0m \u001b[32m━━━━━━━━━━━━━━━━━━━━\u001b[0m\u001b[37m\u001b[0m \u001b[1m13s\u001b[0m 372ms/step - accuracy: 0.9111 - loss: 36.5685 - val_accuracy: 0.9221 - val_loss: 14.4304\n",
      "Epoch 6/50\n",
      "\u001b[1m36/36\u001b[0m \u001b[32m━━━━━━━━━━━━━━━━━━━━\u001b[0m\u001b[37m\u001b[0m \u001b[1m14s\u001b[0m 382ms/step - accuracy: 0.9524 - loss: 5.9002 - val_accuracy: 0.9207 - val_loss: 8.0248\n",
      "Epoch 7/50\n",
      "\u001b[1m36/36\u001b[0m \u001b[32m━━━━━━━━━━━━━━━━━━━━\u001b[0m\u001b[37m\u001b[0m \u001b[1m14s\u001b[0m 384ms/step - accuracy: 0.9838 - loss: 0.8730 - val_accuracy: 0.9229 - val_loss: 7.5007\n",
      "Epoch 8/50\n",
      "\u001b[1m36/36\u001b[0m \u001b[32m━━━━━━━━━━━━━━━━━━━━\u001b[0m\u001b[37m\u001b[0m \u001b[1m14s\u001b[0m 377ms/step - accuracy: 0.9872 - loss: 0.4946 - val_accuracy: 0.9397 - val_loss: 5.7426\n",
      "Epoch 9/50\n",
      "\u001b[1m36/36\u001b[0m \u001b[32m━━━━━━━━━━━━━━━━━━━━\u001b[0m\u001b[37m\u001b[0m \u001b[1m14s\u001b[0m 386ms/step - accuracy: 0.9944 - loss: 0.1494 - val_accuracy: 0.9375 - val_loss: 6.9637\n",
      "Epoch 10/50\n",
      "\u001b[1m36/36\u001b[0m \u001b[32m━━━━━━━━━━━━━━━━━━━━\u001b[0m\u001b[37m\u001b[0m \u001b[1m14s\u001b[0m 393ms/step - accuracy: 0.9955 - loss: 0.1785 - val_accuracy: 0.9489 - val_loss: 5.9947\n",
      "Epoch 11/50\n",
      "\u001b[1m36/36\u001b[0m \u001b[32m━━━━━━━━━━━━━━━━━━━━\u001b[0m\u001b[37m\u001b[0m \u001b[1m13s\u001b[0m 370ms/step - accuracy: 0.9969 - loss: 0.0827 - val_accuracy: 0.9423 - val_loss: 5.8643\n"
     ]
    }
   ],
   "source": [
    "# build fresh model\n",
    "basic_model = build_basic_model(dh.shape, dh.output_size, callbacks)\n",
    "# basic_model.load_weights('../weights/basic.weights.h5')\n",
    "\n",
    "# fit to the taining data\n",
    "history = basic_model.fit(\n",
    "    dh.X_train, \n",
    "    dh.y_train, \n",
    "    epochs=max_epochs, \n",
    "    validation_split=vaidation_split, \n",
    "    batch_size=batch_size, \n",
    "    callbacks=[callbacks]\n",
    ")"
   ]
  },
  {
   "cell_type": "code",
   "execution_count": 30,
   "id": "70e32dfa",
   "metadata": {},
   "outputs": [
    {
     "name": "stdout",
     "output_type": "stream",
     "text": [
      "Epoch 1/8\n",
      "\u001b[1m45/45\u001b[0m \u001b[32m━━━━━━━━━━━━━━━━━━━━\u001b[0m\u001b[37m\u001b[0m \u001b[1m15s\u001b[0m 331ms/step - accuracy: 0.7683 - loss: 0.7258\n",
      "Epoch 2/8\n",
      "\u001b[1m45/45\u001b[0m \u001b[32m━━━━━━━━━━━━━━━━━━━━\u001b[0m\u001b[37m\u001b[0m \u001b[1m15s\u001b[0m 329ms/step - accuracy: 0.9970 - loss: 0.0170\n",
      "Epoch 3/8\n",
      "\u001b[1m45/45\u001b[0m \u001b[32m━━━━━━━━━━━━━━━━━━━━\u001b[0m\u001b[37m\u001b[0m \u001b[1m15s\u001b[0m 329ms/step - accuracy: 0.9999 - loss: 0.0011\n",
      "Epoch 4/8\n",
      "\u001b[1m45/45\u001b[0m \u001b[32m━━━━━━━━━━━━━━━━━━━━\u001b[0m\u001b[37m\u001b[0m \u001b[1m15s\u001b[0m 331ms/step - accuracy: 1.0000 - loss: 1.0637e-04\n",
      "Epoch 5/8\n",
      "\u001b[1m45/45\u001b[0m \u001b[32m━━━━━━━━━━━━━━━━━━━━\u001b[0m\u001b[37m\u001b[0m \u001b[1m15s\u001b[0m 334ms/step - accuracy: 1.0000 - loss: 1.2360e-05\n",
      "Epoch 6/8\n",
      "\u001b[1m45/45\u001b[0m \u001b[32m━━━━━━━━━━━━━━━━━━━━\u001b[0m\u001b[37m\u001b[0m \u001b[1m16s\u001b[0m 346ms/step - accuracy: 1.0000 - loss: 5.2912e-06\n",
      "Epoch 7/8\n",
      "\u001b[1m45/45\u001b[0m \u001b[32m━━━━━━━━━━━━━━━━━━━━\u001b[0m\u001b[37m\u001b[0m \u001b[1m15s\u001b[0m 340ms/step - accuracy: 1.0000 - loss: 2.5190e-06\n",
      "Epoch 8/8\n",
      "\u001b[1m45/45\u001b[0m \u001b[32m━━━━━━━━━━━━━━━━━━━━\u001b[0m\u001b[37m\u001b[0m \u001b[1m16s\u001b[0m 349ms/step - accuracy: 1.0000 - loss: 1.7244e-06\n"
     ]
    },
    {
     "data": {
      "text/plain": [
       "<keras.src.callbacks.history.History at 0x32022a2f0>"
      ]
     },
     "execution_count": 30,
     "metadata": {},
     "output_type": "execute_result"
    }
   ],
   "source": [
    "# using the epoch as per the early stopping callback above\n",
    "# get the index of the lowest recorded loss function (+ 1 to account for 0 idx)\n",
    "best_epoch = get_best_epoch(history.history, metric) + 1\n",
    "\n",
    "# build and train a fresh model for evaluation\n",
    "basic_model = build_basic_model(dh.shape, dh.output_size, callbacks=[])\n",
    "# basic_model.load_weights('../weights/my_model_weights.h5')\n",
    "# fit model on the entire training set by removing the validation_split param\n",
    "basic_model.fit(\n",
    "    dh.X_train, \n",
    "    dh.y_train, \n",
    "    epochs=best_epoch, \n",
    "    batch_size=batch_size, \n",
    ")"
   ]
  },
  {
   "cell_type": "code",
   "execution_count": 32,
   "id": "e921df35",
   "metadata": {},
   "outputs": [
    {
     "name": "stdout",
     "output_type": "stream",
     "text": [
      "\u001b[1m12/12\u001b[0m \u001b[32m━━━━━━━━━━━━━━━━━━━━\u001b[0m\u001b[37m\u001b[0m \u001b[1m1s\u001b[0m 116ms/step - accuracy: 0.8955 - loss: 0.8672\n"
     ]
    },
    {
     "data": {
      "text/plain": [
       "{'accuracy': 0.8995771408081055, 'loss': 0.842587947845459}"
      ]
     },
     "execution_count": 32,
     "metadata": {},
     "output_type": "execute_result"
    }
   ],
   "source": [
    "# evaluate performance on the unseen test data to see whether the basic model can beat \n",
    "# a the statistical significance calculated in the workbook [WORKBOOK]\n",
    "res = basic_model.evaluate(\n",
    "    dh.X_test, \n",
    "    dh.y_test, \n",
    "    batch_size=batch_size, \n",
    "    return_dict=True\n",
    ")\n",
    "\n",
    "res"
   ]
  },
  {
   "cell_type": "code",
   "execution_count": 61,
   "id": "22744264",
   "metadata": {},
   "outputs": [
    {
     "name": "stdout",
     "output_type": "stream",
     "text": [
      "\u001b[1m89/89\u001b[0m \u001b[32m━━━━━━━━━━━━━━━━━━━━\u001b[0m\u001b[37m\u001b[0m \u001b[1m2s\u001b[0m 19ms/step\n",
      "Recall score:\t\t0.6959398980539208\n",
      "Precision score:\t0.7106871095496421\n"
     ]
    },
    {
     "name": "stderr",
     "output_type": "stream",
     "text": [
      "/Users/jodywright/anaconda3/envs/ml3/lib/python3.10/site-packages/sklearn/metrics/_classification.py:1531: UndefinedMetricWarning: Precision is ill-defined and being set to 0.0 in labels with no predicted samples. Use `zero_division` parameter to control this behavior.\n",
      "  _warn_prf(average, modifier, f\"{metric.capitalize()} is\", len(result))\n"
     ]
    }
   ],
   "source": [
    "def get_prediction_results(model, X, y):\n",
    "    '''\n",
    "    run model on the test set of unseen data\n",
    "    \n",
    "    parameters:\n",
    "        model (trained keras model)\n",
    "        X_test (np.array) the test data to classify\n",
    "        y_test (np.array) the test labels to used in the results\n",
    "        \n",
    "    returns:\n",
    "        cm (array) confusion matrix\n",
    "        recall (float) the recall value\n",
    "        precision (float) the precision value\n",
    "    '''\n",
    "    \n",
    "    labels = [0,1,2,3,4]\n",
    "    # run the model against the test data\n",
    "    y_pred = model.predict(X) \n",
    "    # convert the predictions to integers representing the classes\n",
    "    y_pred_labels = np.argmax(y_pred, axis = 1)\n",
    "    # create a confution matrix \n",
    "    cm = confusion_matrix(y, y_pred_labels, labels=labels)\n",
    "    # get the recall and precision scores\n",
    "    recall = recall_score(y, y_pred_labels, average='macro')\n",
    "    precision = precision_score(y, y_pred_labels, average='macro')\n",
    "    \n",
    "    print(f'Recall score:\\t\\t{recall}\\nPrecision score:\\t{precision}')\n",
    "    \n",
    "    return cm, recall, precision\n",
    "\n",
    "cm, rec, prec = get_prediction_results(basic_model, dh.X_test, dh.y_test)\n"
   ]
  },
  {
   "cell_type": "code",
   "execution_count": 59,
   "id": "2c74c1c5",
   "metadata": {},
   "outputs": [
    {
     "data": {
      "image/png": "[encoded data removed]",
      "text/plain": [
       "<Figure size 640x480 with 2 Axes>"
      ]
     },
     "metadata": {},
     "output_type": "display_data"
    }
   ],
   "source": [
    "disp = ConfusionMatrixDisplay(\n",
    "    confusion_matrix=cm,\n",
    "    display_labels=[0,1,2,3,4]\n",
    "\n",
    ")\n",
    "\n",
    "disp.plot()\n",
    "plt.show()"
   ]
  },
  {
   "cell_type": "markdown",
   "id": "63e80482",
   "metadata": {},
   "source": [
    "## Grid search using keras library functinon"
   ]
  },
  {
   "cell_type": "markdown",
   "id": "2e4df26e",
   "metadata": {},
   "source": [
    "### Notes\n",
    "The basic model of 1 conv2d with 2 filters acheived the following evaluation results when trained using a batch size of 256:\n",
    "- accuracy 0.8995\n",
    "- val_loss 0.8425  \n",
    "The early stopping callback even found a point of overfitting after the 9th epoch.  \n",
    "\n",
    "For testing the optimizers, a level playing field is created by saving the weights from an initial model. This needed repeating for the two layers model since the layer archetecture must be an exact match for that of the new model using the weights.  \n",
    "\n",
    "\n",
    "[cite]  \n",
    "The Hyperband tuning algorithm uses adaptive resource allocation and early-stopping to quickly converge on a high-performing model. This is done using a sports championship style bracket. The algorithm trains a large number of models for a few epochs and carries forward only the top-performing half of models to the next round. Hyperband determines the number of models to train in a bracket by computing 1 + logfactor(max_epochs) and rounding it up to the nearest integer.\n"
   ]
  },
  {
   "cell_type": "code",
   "execution_count": 62,
   "id": "2c345cfe",
   "metadata": {},
   "outputs": [],
   "source": [
    "class Tuner_Timer:\n",
    "    '''\n",
    "    Simple timer for use in model training\n",
    "    \n",
    "    returns:\n",
    "        (string) the time between start and stop functions being activated\n",
    "    '''\n",
    "    \n",
    "    def __init__(self):\n",
    "        self.__start = None\n",
    "        self.__end = None\n",
    "        self.__duration = None\n",
    "\n",
    "    def start(self):\n",
    "        '''\n",
    "        start the timer \n",
    "        '''\n",
    "        self.__start = time.time()\n",
    "        \n",
    "    def stop(self):\n",
    "        '''\n",
    "        stop the timer and format the duration\n",
    "        '''\n",
    "        self.__end = time.time()\n",
    "        self.__duration = self.__end - self.__start\n",
    "        duration_string = time.strftime('%H:%M:%S', time.gmtime(self.__duration))\n",
    "\n",
    "        return duration_string"
   ]
  },
  {
   "cell_type": "code",
   "execution_count": 179,
   "id": "eef948d2",
   "metadata": {},
   "outputs": [],
   "source": [
    "def run_tuner(timer, tuner, batch_size, max_epochs, callbacks):\n",
    "        '''\n",
    "        run a given tuner saving the best parameter configuration to a timer object\n",
    "        along with the total duration of the optimizer's run\n",
    "\n",
    "        params:\n",
    "            timer (Tuner_Timer) the timer used for recording results\n",
    "            tuner (keras.Tuner) the current tuner under test \n",
    "            batch_size (int) batch for training \n",
    "            max_epochs (int) the maximum number of epochs to run if not stopped by early stopping\n",
    "            callbacks (keras.callbacks) for early stopping\n",
    "        '''\n",
    "        # start timer\n",
    "        print(f'Running optimizer {tuner.project_name}')\n",
    "        timer.start()\n",
    "        # the tuner will save results to the directory specified in the tuner constructor\n",
    "        tuner.search(\n",
    "            dh.X_train, dh.y_train,\n",
    "            batch_size=batch_size,\n",
    "            epochs=max_epochs,\n",
    "            validation_split=0.2,\n",
    "            callbacks=callbacks,\n",
    "            verbose=1\n",
    "        )\n",
    "\n",
    "        # get the best performing hyper parameter set\n",
    "        best_hps = tuner.get_best_hyperparameters()[0].values\n",
    "        # stop timing and get the duration\n",
    "        test_duration = timer.stop()\n",
    "        \n",
    "        return {'duration':test_duration, 'best_params':best_hps}"
   ]
  },
  {
   "cell_type": "code",
   "execution_count": 114,
   "id": "ed26c10e",
   "metadata": {},
   "outputs": [],
   "source": [
    "def retrain_and_evaluate(tuner):\n",
    "    '''\n",
    "    takes a tuner and retrains in order to find a point of overfit then\n",
    "    retrains a fresh model on the entire data set followed by an evaluation run\n",
    "    \n",
    "    parameters:\n",
    "        tuner (keras tuner) the tuner to be tested\n",
    "        \n",
    "    returns:\n",
    "        loss (float) the loss from the evaluation\n",
    "        accuracy (float) the accuracy from the evaluation\n",
    "        best_epoch (int) the point of overfit using val_accuracy as the metric\n",
    "    \n",
    "    '''\n",
    "    # get the object hp to rebuild a fresh model\n",
    "    best_hps = tuners[0].get_best_hyperparameters()[0]\n",
    "    # build a fresh model for retraining in order to find the point of overfitting\n",
    "    model = hypermodel.build(best_hps)\n",
    "    print('Finding best epoch')\n",
    "    model.fit(dh.X_train, dh.y_train,\n",
    "                batch_size=batch_size,\n",
    "                epochs=max_epochs,\n",
    "                validation_split=0.2,\n",
    "                callbacks=callbacks,)\n",
    "\n",
    "    # find best epoch since there seems no way to find this in the tuner\n",
    "    best_epoch = np.argmin(model.history.history['val_accuracy'])\n",
    "    # rebuild fresh model\n",
    "    print(f'\\nRetraining to best epoch: {best_epoch}')\n",
    "    model = hypermodel.build(best_hps)\n",
    "    # reterain on the entire set for the best epoch\n",
    "    model.fit(dh.X_train, dh.y_train,\n",
    "                batch_size=batch_size,\n",
    "                epochs=best_epoch,)\n",
    "    \n",
    "    print('\\nEvaluating model')\n",
    "    \n",
    "    loss, accuracy = model.evaluate(dh.X_test, dh.y_test)\n",
    "    \n",
    "    return loss, accuracy, best_epoch"
   ]
  },
  {
   "cell_type": "code",
   "execution_count": 253,
   "id": "6fd2fdab",
   "metadata": {},
   "outputs": [
    {
     "name": "stdout",
     "output_type": "stream",
     "text": [
      "start-08-28\n"
     ]
    }
   ],
   "source": [
    "# using now ensures no accidental overwrite of the test results\n",
    "now = str(datetime.datetime.now())[5:10]\n",
    "\n",
    "directory = f\"start-{now}\"\n",
    "print(directory)\n",
    "metrics = \"val_loss\"\n",
    "\n",
    "# common to all optimizers\n",
    "common_params = {\n",
    "    'objective': metrics, \n",
    "    'executions_per_trial':1,\n",
    "    'directory':directory,\n",
    "    'tuner_id':'test_03',\n",
    "    'overwrite':False,\n",
    "}\n",
    "# keras callbacks using only early stopping for this test\n",
    "callbacks = [\n",
    "    keras.callbacks.EarlyStopping(monitor=metrics, patience=3),\n",
    "]"
   ]
  },
  {
   "cell_type": "code",
   "execution_count": 245,
   "id": "00b059bf",
   "metadata": {},
   "outputs": [],
   "source": [
    "def build_untrained_model():\n",
    "    '''\n",
    "    builds an un compiled keras model\n",
    "    this allows an initial set of weights to be saved and then reused for each test\n",
    "    \n",
    "    returns:\n",
    "        model (keras model)\n",
    "    '''\n",
    "\n",
    "    inputs = keras.Input(shape=dh.shape)\n",
    "    x = keras.layers.Conv2D(filters=32, kernel_size=3, activation=\"relu\")(inputs) \n",
    "    x = keras.layers.MaxPooling2D(pool_size=2)(x)\n",
    "    x = keras.layers.Dropout(rate=0.1)(x)\n",
    "    x = keras.layers.Conv2D(filters=32, kernel_size=3, activation=\"relu\")(x) \n",
    "    x = keras.layers.MaxPooling2D(pool_size=2)(x)\n",
    "\n",
    "    x = keras.layers.Flatten()(x)\n",
    "\n",
    "    outputs = keras.layers.Dense(dh.output_size, activation=\"softmax\")(x)\n",
    "    model = keras.Model(inputs=inputs, outputs=outputs)\n",
    "\n",
    "    return model\n",
    "\n",
    "# build a model and save its weights for use throughout\n",
    "model = build_untrained_model()\n",
    "model.save_weights('../weights/untrained.h5')"
   ]
  },
  {
   "cell_type": "code",
   "execution_count": 256,
   "id": "f0b657c5",
   "metadata": {},
   "outputs": [],
   "source": [
    "def build_optimizer_model(hp):\n",
    "    '''\n",
    "    builds on top of the untrained model and loads the initial weights\n",
    "    add the hyperparamter variables that are used by the various tuners\n",
    "    \n",
    "    parameters:\n",
    "        hp (keras hyperparameter class) this is passed by the optimizer\n",
    "        \n",
    "    returns:\n",
    "        model (keras model) a compiled model with parameters chosen by the tuner\n",
    "    '''\n",
    "    \n",
    "    model = build_untrained_model()\n",
    "    model.load_weights('../weights/untrained.h5')\n",
    "    \n",
    "    model.layers[0].filters = hp.Int(name=\"filters_1\", min_value=16, max_value=32, step=8)\n",
    "    model.layers[2].rate = hp.Float(name=\"rate_1\", min_value=0.2, max_value=0.5, step=0.1)\n",
    "    model.layers[3].filters = hp.Int(name=\"filters_1\", min_value=16, max_value=32, step=8)\n",
    "    \n",
    "    learning_rate = hp.Choice('learning_rate', values=[1e-2, 1e-3, 1e-4])\n",
    "    \n",
    "    model.compile(\n",
    "            optimizer=keras.optimizers.RMSprop(learning_rate=learning_rate),\n",
    "            loss=\"sparse_categorical_crossentropy\",\n",
    "            metrics=[\"accuracy\"])\n",
    "    \n",
    "    return model"
   ]
  },
  {
   "cell_type": "code",
   "execution_count": 254,
   "id": "433898bd",
   "metadata": {},
   "outputs": [],
   "source": [
    "# size of 128 allows a reasonable test time\n",
    "batch_size = 128\n",
    "# given the results in the initial test a size of 30 ought to be sufficient to find the overfit point\n",
    "max_epochs = 30\n",
    "# initialize the result sets\n",
    "timer = Tuner_Timer()\n",
    "best_results = {}\n",
    "tuners = []"
   ]
  },
  {
   "cell_type": "code",
   "execution_count": 257,
   "id": "7027107c",
   "metadata": {},
   "outputs": [],
   "source": [
    "# compile the list of optimizers to be tested\n",
    "# RANDOM\n",
    "tuners.append(kt.RandomSearch(build_optimizer_model, project_name='random', max_trials=40, **common_params))\n",
    "\n",
    "# HYPERBAND\n",
    "tuners.append(kt.Hyperband(build_optimizer_model, project_name='hyperband', factor=3, hyperband_iterations=1, **common_params))\n",
    "\n",
    "# BAYES\n",
    "tuners.append(kt.BayesianOptimization(build_optimizer_model, project_name='bayes', **common_params))\n",
    "\n",
    "# GRID\n",
    "tuners.append(kt.GridSearch(build_optimizer_model, project_name='grid', **common_params))"
   ]
  },
  {
   "cell_type": "code",
   "execution_count": 258,
   "id": "5a027079",
   "metadata": {},
   "outputs": [
    {
     "name": "stdout",
     "output_type": "stream",
     "text": [
      "Trial 27 Complete [00h 36m 00s]\n",
      "val_loss: 0.15532536804676056\n",
      "\n",
      "Best val_loss So Far: 0.15532536804676056\n",
      "Total elapsed time: 13h 23m 27s\n",
      "Finding best epoch\n",
      "Epoch 1/30\n",
      "7/7 [==============================] - 14s 2s/step - loss: 1911.9928 - accuracy: 0.2725 - val_loss: 147.0729 - val_accuracy: 0.5250\n",
      "Epoch 2/30\n",
      "7/7 [==============================] - 12s 2s/step - loss: 787.3993 - accuracy: 0.3200 - val_loss: 274.2293 - val_accuracy: 0.2200\n",
      "Epoch 3/30\n",
      "7/7 [==============================] - 12s 2s/step - loss: 566.2479 - accuracy: 0.3525 - val_loss: 280.5002 - val_accuracy: 0.5250\n",
      "Epoch 4/30\n",
      "7/7 [==============================] - 13s 2s/step - loss: 726.5581 - accuracy: 0.3063 - val_loss: 295.4773 - val_accuracy: 0.1250\n",
      "\n",
      "Retraining to best epoch: 3\n",
      "Epoch 1/3\n",
      "89/89 [==============================] - 176s 2s/step - loss: 384.8629 - accuracy: 0.3375\n",
      "Epoch 2/3\n",
      "89/89 [==============================] - 167s 2s/step - loss: 63.5409 - accuracy: 0.4828\n",
      "Epoch 3/3\n",
      "89/89 [==============================] - 168s 2s/step - loss: 6.1380 - accuracy: 0.7960\n",
      "\n",
      "Evaluating model\n",
      "89/89 [==============================] - 10s 105ms/step - loss: 0.9508 - accuracy: 0.7847\n",
      "Loss: 0.9508249163627625\tAccuracy: 0.7847075462341309\n"
     ]
    }
   ],
   "source": [
    "# run all optimizers\n",
    "for seed, tuner in enumerate(tuners):\n",
    "    # run the optimizer\n",
    "    best_result = run_tuner(timer, tuner, batch_size, max_epochs, callbacks)\n",
    "    \n",
    "#     # add best params to result dict and save current dict to file\n",
    "#     save_best_result(best_results, best_result, tuner)\n",
    "    if tuner.project_name in best_results.keys():\n",
    "        \n",
    "        best_results[tuner.project_name].update(best_result)\n",
    "#         print(results)\n",
    "    else:\n",
    "        best_results[tuner.project_name] = best_result\n",
    "    \n",
    "    loss, accuracy, best_epoch = retrain_and_evaluate(tuners[0])\n",
    "    \n",
    "    best_results[tuner.project_name]['loss'] = loss\n",
    "    best_results[tuner.project_name]['accuracy'] = accuracy\n",
    "    #convert from int64 to make serializable\n",
    "    best_results[tuner.project_name]['best_epoch'] = int(best_epoch)\n",
    "    \n",
    "     #save the current result to file\n",
    "    f = open(f\"{tuner.directory}/results.json\", \"w\")\n",
    "\n",
    "    json.dump(best_results, f, indent = 6)\n",
    "\n",
    "    f.close()\n",
    "    \n",
    "    print(f'Loss: {loss}\\tAccuracy: {accuracy}')\n",
    "    "
   ]
  },
  {
   "cell_type": "code",
   "execution_count": 259,
   "id": "dd13cea4",
   "metadata": {
    "scrolled": true
   },
   "outputs": [
    {
     "data": {
      "text/plain": [
       "{'random': {'duration': '13:12:02',\n",
       "  'best_params': {'filters_1': 24,\n",
       "   'rate_1': 0.30000000000000004,\n",
       "   'learning_rate': 0.0001,\n",
       "   'filters_2': 32},\n",
       "  'loss': 1.2720849514007568,\n",
       "  'accuracy': 0.6578576564788818,\n",
       "  'best_epoch': 3},\n",
       " 'hyperband': {'duration': '02:28:52',\n",
       "  'best_params': {'filters_1': 32,\n",
       "   'rate_1': 0.2,\n",
       "   'learning_rate': 0.001,\n",
       "   'tuner/epochs': 2,\n",
       "   'tuner/initial_epoch': 0,\n",
       "   'tuner/bracket': 4,\n",
       "   'tuner/round': 0},\n",
       "  'loss': 0.8689003586769104,\n",
       "  'accuracy': 0.7431289553642273,\n",
       "  'best_epoch': 3},\n",
       " 'bayes': {'duration': '04:25:49',\n",
       "  'best_params': {'filters_1': 24, 'rate_1': 0.4, 'learning_rate': 0.0001},\n",
       "  'loss': 0.20684757828712463,\n",
       "  'accuracy': 0.9467934966087341,\n",
       "  'best_epoch': 12},\n",
       " 'grid': {'duration': '13:23:26',\n",
       "  'best_params': {'filters_1': 16, 'rate_1': 0.2, 'learning_rate': 0.0001},\n",
       "  'loss': 0.9508249163627625,\n",
       "  'accuracy': 0.7847075462341309,\n",
       "  'best_epoch': 3}}"
      ]
     },
     "execution_count": 259,
     "metadata": {},
     "output_type": "execute_result"
    }
   ],
   "source": [
    "best_results"
   ]
  },
  {
   "cell_type": "code",
   "execution_count": null,
   "id": "3a745916",
   "metadata": {
    "scrolled": true
   },
   "outputs": [],
   "source": [
    "tuners[0].results_summary(1)"
   ]
  }
 ],
 "metadata": {
  "kernelspec": {
   "display_name": "ml3",
   "language": "python",
   "name": "ml3"
  },
  "language_info": {
   "codemirror_mode": {
    "name": "ipython",
    "version": 3
   },
   "file_extension": ".py",
   "mimetype": "text/x-python",
   "name": "python",
   "nbconvert_exporter": "python",
   "pygments_lexer": "ipython3",
   "version": "3.10.14"
  }
 },
 "nbformat": 4,
 "nbformat_minor": 5
}
